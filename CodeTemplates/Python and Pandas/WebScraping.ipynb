{
 "cells": [
  {
   "cell_type": "code",
   "execution_count": 1,
   "id": "be9debc0",
   "metadata": {},
   "outputs": [
    {
     "name": "stdout",
     "output_type": "stream",
     "text": [
      "Buttered toast phenomenon\n"
     ]
    }
   ],
   "source": [
    "#Challenge 1\n",
    "from bs4 import BeautifulSoup\n",
    "import requests\n",
    "\n",
    "url = \"https://en.wikipedia.org/wiki/Buttered_toast_phenomenon\"\n",
    "response = requests.get(url)\n",
    "\n",
    "soup = BeautifulSoup(response.text, \"html.parser\")\n",
    "#.find() finds the first instance of the value wihtin a certain tag input in the parenthesis\n",
    "header = soup.find('h1')\n",
    "\n",
    "print(header.text)"
   ]
  },
  {
   "cell_type": "code",
   "execution_count": 2,
   "id": "acdff912",
   "metadata": {},
   "outputs": [
    {
     "name": "stdout",
     "output_type": "stream",
     "text": [
      "[<a class=\"mw-jump-link\" href=\"#bodyContent\">Jump to content</a>, <a accesskey=\"z\" href=\"/wiki/Main_Page\" title=\"Visit the main page [z]\"><span>Main page</span></a>, <a href=\"/wiki/Wikipedia:Contents\" title=\"Guides to browsing Wikipedia\"><span>Contents</span></a>, <a href=\"/wiki/Portal:Current_events\" title=\"Articles related to current events\"><span>Current events</span></a>, <a accesskey=\"x\" href=\"/wiki/Special:Random\" title=\"Visit a randomly selected article [x]\"><span>Random article</span></a>, <a href=\"/wiki/Wikipedia:About\" title=\"Learn about Wikipedia and how it works\"><span>About Wikipedia</span></a>, <a href=\"//en.wikipedia.org/wiki/Wikipedia:Contact_us\" title=\"How to contact Wikipedia\"><span>Contact us</span></a>, <a href=\"https://donate.wikimedia.org/wiki/Special:FundraiserRedirector?utm_source=donate&amp;utm_medium=sidebar&amp;utm_campaign=C13_en.wikipedia.org&amp;uselang=en\" title=\"Support us by donating to the Wikimedia Foundation\"><span>Donate</span></a>, <a href=\"/wiki/Help:Contents\" title=\"Guidance on how to use and edit Wikipedia\"><span>Help</span></a>, <a href=\"/wiki/Help:Introduction\" title=\"Learn how to edit Wikipedia\"><span>Learn to edit</span></a>, <a href=\"/wiki/Wikipedia:Community_portal\" title=\"The hub for editors\"><span>Community portal</span></a>, <a accesskey=\"r\" href=\"/wiki/Special:RecentChanges\" title=\"A list of recent changes to Wikipedia [r]\"><span>Recent changes</span></a>, <a href=\"/wiki/Wikipedia:File_upload_wizard\" title=\"Add images or other media for use on Wikipedia\"><span>Upload file</span></a>, <a class=\"mw-logo\" href=\"/wiki/Main_Page\">\n",
      "<img alt=\"\" aria-hidden=\"true\" class=\"mw-logo-icon\" height=\"50\" src=\"/static/images/icons/wikipedia.png\" width=\"50\"/>\n",
      "<span class=\"mw-logo-container\">\n",
      "<img alt=\"Wikipedia\" class=\"mw-logo-wordmark\" src=\"/static/images/mobile/copyright/wikipedia-wordmark-en.svg\" style=\"width: 7.5em; height: 1.125em;\"/>\n",
      "<img alt=\"The Free Encyclopedia\" class=\"mw-logo-tagline\" height=\"13\" src=\"/static/images/mobile/copyright/wikipedia-tagline-en.svg\" style=\"width: 7.3125em; height: 0.8125em;\" width=\"117\"/>\n",
      "</span>\n",
      "</a>, <a accesskey=\"f\" class=\"cdx-button cdx-button--fake-button cdx-button--fake-button--enabled cdx-button--weight-quiet cdx-button--icon-only search-toggle\" href=\"/wiki/Special:Search\" id=\"\" title=\"Search Wikipedia [f]\"><span class=\"vector-icon mw-ui-icon-search mw-ui-icon-wikimedia-search\"></span>\n",
      "<span>Search</span>\n",
      "</a>, <a href=\"/w/index.php?title=Special:CreateAccount&amp;returnto=Buttered+toast+phenomenon\" title=\"You are encouraged to create an account and log in; however, it is not mandatory\"><span>Create account</span></a>, <a accesskey=\"o\" href=\"/w/index.php?title=Special:UserLogin&amp;returnto=Buttered+toast+phenomenon\" title=\"You're encouraged to log in; however, it's not mandatory. [o]\"><span>Log in</span></a>, <a href=\"/w/index.php?title=Special:CreateAccount&amp;returnto=Buttered+toast+phenomenon\" title=\"You are encouraged to create an account and log in; however, it is not mandatory\"><span class=\"vector-icon mw-ui-icon-userAdd mw-ui-icon-wikimedia-userAdd\"></span> <span>Create account</span></a>, <a accesskey=\"o\" href=\"/w/index.php?title=Special:UserLogin&amp;returnto=Buttered+toast+phenomenon\" title=\"You're encouraged to log in; however, it's not mandatory. [o]\"><span class=\"vector-icon mw-ui-icon-logIn mw-ui-icon-wikimedia-logIn\"></span> <span>Log in</span></a>, <a aria-label=\"Learn more about editing\" href=\"/wiki/Help:Introduction\"><span>learn more</span></a>, <a accesskey=\"y\" href=\"/wiki/Special:MyContributions\" title=\"A list of edits made from this IP address [y]\"><span>Contributions</span></a>, <a accesskey=\"n\" href=\"/wiki/Special:MyTalk\" title=\"Discussion about edits from this IP address [n]\"><span>Talk</span></a>, <a class=\"vector-toc-link\" href=\"#\">\n",
      "<div class=\"vector-toc-text\">(Top)</div>\n",
      "</a>, <a class=\"vector-toc-link\" href=\"#Origins\">\n",
      "<div class=\"vector-toc-text\">\n",
      "<span class=\"vector-toc-numb\">1</span>Origins</div>\n",
      "</a>, <a class=\"vector-toc-link\" href=\"#Explanation\">\n",
      "<div class=\"vector-toc-text\">\n",
      "<span class=\"vector-toc-numb\">2</span>Explanation</div>\n",
      "</a>, <a class=\"vector-toc-link\" href=\"#Other_factors\">\n",
      "<div class=\"vector-toc-text\">\n",
      "<span class=\"vector-toc-numb\">3</span>Other factors</div>\n",
      "</a>, <a class=\"vector-toc-link\" href=\"#See_also\">\n",
      "<div class=\"vector-toc-text\">\n",
      "<span class=\"vector-toc-numb\">4</span>See also</div>\n",
      "</a>, <a class=\"vector-toc-link\" href=\"#References\">\n",
      "<div class=\"vector-toc-text\">\n",
      "<span class=\"vector-toc-numb\">5</span>References</div>\n",
      "</a>, <a class=\"interlanguage-link-target\" href=\"https://el.wikipedia.org/wiki/%CE%A6%CE%B1%CE%B9%CE%BD%CF%8C%CE%BC%CE%B5%CE%BD%CE%BF_%CF%84%CE%B7%CF%82_%CE%B2%CE%BF%CF%85%CF%84%CF%85%CF%81%CF%89%CE%BC%CE%AD%CE%BD%CE%B7%CF%82_%CF%86%CF%81%CF%85%CE%B3%CE%B1%CE%BD%CE%B9%CE%AC%CF%82\" hreflang=\"el\" lang=\"el\" title=\"Φαινόμενο της βουτυρωμένης φρυγανιάς – Greek\"><span>Ελληνικά</span></a>, <a class=\"interlanguage-link-target\" href=\"https://es.wikipedia.org/wiki/Fen%C3%B3meno_de_la_tostada_con_mantequilla\" hreflang=\"es\" lang=\"es\" title=\"Fenómeno de la tostada con mantequilla – Spanish\"><span>Español</span></a>, <a class=\"interlanguage-link-target\" href=\"https://id.wikipedia.org/wiki/Fenomena_roti_bakar_mentega\" hreflang=\"id\" lang=\"id\" title=\"Fenomena roti bakar mentega – Indonesian\"><span>Bahasa Indonesia</span></a>, <a class=\"interlanguage-link-target\" href=\"https://he.wikipedia.org/wiki/%D7%A0%D7%A4%D7%99%D7%9C%D7%AA_%D7%A4%D7%A8%D7%95%D7%A1%D7%AA_%D7%9C%D7%97%D7%9D_%D7%9E%D7%A8%D7%95%D7%97%D7%94_%D7%91%D7%97%D7%9E%D7%90%D7%94\" hreflang=\"he\" lang=\"he\" title=\"נפילת פרוסת לחם מרוחה בחמאה – Hebrew\"><span>עברית</span></a>, <a class=\"interlanguage-link-target\" href=\"https://pt.wikipedia.org/wiki/Fen%C3%B4meno_do_p%C3%A3o_com_manteiga\" hreflang=\"pt\" lang=\"pt\" title=\"Fenômeno do pão com manteiga – Portuguese\"><span>Português</span></a>, <a class=\"interlanguage-link-target\" href=\"https://fi.wikipedia.org/wiki/Voileip%C3%A4_putoaa_aina_voipuoli_alasp%C3%A4in\" hreflang=\"fi\" lang=\"fi\" title=\"Voileipä putoaa aina voipuoli alaspäin – Finnish\"><span>Suomi</span></a>, <a class=\"interlanguage-link-target\" href=\"https://th.wikipedia.org/wiki/%E0%B8%9B%E0%B8%A3%E0%B8%B2%E0%B8%81%E0%B8%8F%E0%B8%81%E0%B8%B2%E0%B8%A3%E0%B8%93%E0%B9%8C%E0%B8%82%E0%B8%99%E0%B8%A1%E0%B8%9B%E0%B8%B1%E0%B8%87%E0%B9%80%E0%B8%99%E0%B8%A2\" hreflang=\"th\" lang=\"th\" title=\"ปรากฏการณ์ขนมปังเนย – Thai\"><span>ไทย</span></a>, <a class=\"wbc-editpage\" href=\"https://www.wikidata.org/wiki/Special:EntityPage/Q5002871#sitelinks-wikipedia\" title=\"Edit interlanguage links\">Edit links</a>, <a accesskey=\"c\" href=\"/wiki/Buttered_toast_phenomenon\" title=\"View the content page [c]\"><span>Article</span></a>, <a accesskey=\"t\" href=\"/wiki/Talk:Buttered_toast_phenomenon\" rel=\"discussion\" title=\"Discuss improvements to the content page [t]\"><span>Talk</span></a>, <a href=\"/wiki/Buttered_toast_phenomenon\"><span>Read</span></a>, <a accesskey=\"e\" href=\"/w/index.php?title=Buttered_toast_phenomenon&amp;action=edit\" title=\"Edit this page [e]\"><span>Edit</span></a>, <a accesskey=\"h\" href=\"/w/index.php?title=Buttered_toast_phenomenon&amp;action=history\" title=\"Past revisions of this page [h]\"><span>View history</span></a>, <a href=\"/wiki/Buttered_toast_phenomenon\"><span>Read</span></a>, <a accesskey=\"e\" href=\"/w/index.php?title=Buttered_toast_phenomenon&amp;action=edit\" title=\"Edit this page [e]\"><span>Edit</span></a>, <a href=\"/w/index.php?title=Buttered_toast_phenomenon&amp;action=history\"><span>View history</span></a>, <a accesskey=\"j\" href=\"/wiki/Special:WhatLinksHere/Buttered_toast_phenomenon\" title=\"List of all English Wikipedia pages containing links to this page [j]\"><span>What links here</span></a>, <a accesskey=\"k\" href=\"/wiki/Special:RecentChangesLinked/Buttered_toast_phenomenon\" rel=\"nofollow\" title=\"Recent changes in pages linked from this page [k]\"><span>Related changes</span></a>, <a accesskey=\"u\" href=\"/wiki/Wikipedia:File_Upload_Wizard\" title=\"Upload files [u]\"><span>Upload file</span></a>, <a accesskey=\"q\" href=\"/wiki/Special:SpecialPages\" title=\"A list of all special pages [q]\"><span>Special pages</span></a>, <a href=\"/w/index.php?title=Buttered_toast_phenomenon&amp;oldid=1159917126\" title=\"Permanent link to this revision of this page\"><span>Permanent link</span></a>, <a href=\"/w/index.php?title=Buttered_toast_phenomenon&amp;action=info\" title=\"More information about this page\"><span>Page information</span></a>, <a href=\"/w/index.php?title=Special:CiteThisPage&amp;page=Buttered_toast_phenomenon&amp;id=1159917126&amp;wpFormIdentifier=titleform\" title=\"Information on how to cite this page\"><span>Cite this page</span></a>, <a href=\"/w/index.php?title=Special:UrlShortener&amp;url=https%3A%2F%2Fen.wikipedia.org%2Fwiki%2FButtered_toast_phenomenon\"><span>Get shortened URL</span></a>, <a accesskey=\"g\" href=\"https://www.wikidata.org/wiki/Special:EntityPage/Q5002871\" title=\"Structured data on this page hosted by Wikidata [g]\"><span>Wikidata item</span></a>, <a href=\"/w/index.php?title=Special:DownloadAsPdf&amp;page=Buttered_toast_phenomenon&amp;action=show-download-screen\" title=\"Download this page as a PDF file\"><span>Download as PDF</span></a>, <a accesskey=\"p\" href=\"/w/index.php?title=Buttered_toast_phenomenon&amp;printable=yes\" title=\"Printable version of this page [p]\"><span>Printable version</span></a>, <a class=\"mw-file-description\" href=\"/wiki/File:LA_LEY_DE_MURPHY.jpg\"><img class=\"mw-file-element\" data-file-height=\"1232\" data-file-width=\"1632\" decoding=\"async\" height=\"166\" src=\"//upload.wikimedia.org/wikipedia/commons/thumb/0/08/LA_LEY_DE_MURPHY.jpg/220px-LA_LEY_DE_MURPHY.jpg\" srcset=\"//upload.wikimedia.org/wikipedia/commons/thumb/0/08/LA_LEY_DE_MURPHY.jpg/330px-LA_LEY_DE_MURPHY.jpg 1.5x, //upload.wikimedia.org/wikipedia/commons/thumb/0/08/LA_LEY_DE_MURPHY.jpg/440px-LA_LEY_DE_MURPHY.jpg 2x\" width=\"220\"/></a>, <a href=\"/wiki/Toast_(food)\" title=\"Toast (food)\">toast</a>, <a href=\"/wiki/Butter\" title=\"Butter\">butter</a>, <a href=\"/wiki/Robert_Matthews_(scientist)\" title=\"Robert Matthews (scientist)\">Robert Matthews</a>, <a href=\"/wiki/Ig_Nobel_Prize\" title=\"Ig Nobel Prize\">Ig Nobel Prize</a>, <a href=\"/wiki/Observation\" title=\"Observation\">observation</a>, <a href=\"/wiki/Butter\" title=\"Butter\">buttered</a>, <a href=\"/wiki/Toast_(food)\" title=\"Toast (food)\">toast</a>, <a href=\"/wiki/Idiom\" title=\"Idiom\">idiom</a>, <a href=\"#cite_note-1\">[1]</a>, <a href=\"/w/index.php?title=Buttered_toast_phenomenon&amp;action=edit&amp;section=1\" title=\"Edit section: Origins\">edit</a>, <a href=\"/wiki/Wikipedia:Manual_of_Style/Words_to_watch#Unsupported_attributions\" title=\"Wikipedia:Manual of Style/Words to watch\"><span title=\"The material near this tag may use weasel words or too-vague attribution. (January 2019)\">by whom?</span></a>, <a href=\"/wiki/James_Payn\" title=\"James Payn\">James Payn</a>, <a href=\"#cite_note-2\">[2]</a>, <a href=\"#cite_note-3\">[3]</a>, <a href=\"/wiki/BBC\" title=\"BBC\">BBC</a>, <a class=\"mw-redirect\" href=\"/wiki/Q.E.D._(BBC_TV_series)\" title=\"Q.E.D. (BBC TV series)\">Q.E.D.</a>, <a href=\"#cite_note-Anthromurphic-4\">[4]</a>, <a href=\"#cite_note-5\">[5]</a>, <a href=\"#cite_note-6\">[6]</a>, <a href=\"#cite_note-7\">[7]</a>, <a href=\"/wiki/Robert_Matthews_(scientist)\" title=\"Robert Matthews (scientist)\">Robert Matthews</a>, <a href=\"/wiki/Ig_Nobel_Prize\" title=\"Ig Nobel Prize\">Ig Nobel Prize</a>, <a href=\"#cite_note-European-Journal-8\">[8]</a>, <a href=\"#cite_note-9\">[9]</a>, <a href=\"/w/index.php?title=Buttered_toast_phenomenon&amp;action=edit&amp;section=2\" title=\"Edit section: Explanation\">edit</a>, <a href=\"#cite_note-10\">[10]</a>, <a href=\"#cite_note-11\">[11]</a>, <a href=\"#cite_note-Anthromurphic-4\">[4]</a>, <a href=\"/wiki/Physical_constant\" title=\"Physical constant\">physical constants</a>, <a href=\"#cite_note-European-Journal-8\">[8]</a>, <a href=\"/w/index.php?title=Buttered_toast_phenomenon&amp;action=edit&amp;section=3\" title=\"Edit section: Other factors\">edit</a>, <a href=\"#cite_note-12\">[12]</a>, <a href=\"#cite_note-Anthromurphic-4\">[4]</a>, <a href=\"/wiki/Inertia\" title=\"Inertia\">inertia</a>, <a href=\"#cite_note-13\">[13]</a>, <a href=\"/w/index.php?title=Buttered_toast_phenomenon&amp;action=edit&amp;section=4\" title=\"Edit section: See also\">edit</a>, <a href=\"/wiki/Buttered_cat_paradox\" title=\"Buttered cat paradox\">Buttered cat paradox</a>, <a href=\"/wiki/Murphy%27s_law\" title=\"Murphy's law\">Murphy's law</a>, <a href=\"/wiki/The_Butter_Battle_Book\" title=\"The Butter Battle Book\">The Butter Battle Book</a>, <a href=\"/wiki/Finagle%27s_law#Variants\" title=\"Finagle's law\">Finagle's law § Variants</a>, <a href=\"/wiki/Resistentialism#Similar_concepts\" title=\"Resistentialism\">Resistentialism § Similar_concepts</a>, <a href=\"/w/index.php?title=Buttered_toast_phenomenon&amp;action=edit&amp;section=5\" title=\"Edit section: References\">edit</a>, <a href=\"#cite_ref-1\">^</a>, <a class=\"external text\" href=\"http://www.phrases.org.uk/meanings/butter-side-down.html\" rel=\"nofollow\">\"<span class=\"cs1-kern-left\"></span>'Why does bread always fall buttered side down?' - the meaning and origin of this phrase\"</a>, <a href=\"#cite_ref-2\">^</a>, <a class=\"external text\" href=\"https://books.google.com/books?id=7PMZJqSR4sAC&amp;q=buttered\" rel=\"nofollow\"><i>Dictionary of Proverbs</i></a>, <a class=\"mw-redirect\" href=\"/wiki/ISBN_(identifier)\" title=\"ISBN (identifier)\">ISBN</a>, <a href=\"/wiki/Special:BookSources/978-1840223118\" title=\"Special:BookSources/978-1840223118\"><bdi>978-1840223118</bdi></a>, <a href=\"#cite_ref-3\">^</a>, <a class=\"external text\" href=\"https://books.google.com/books?id=fgaUQc8NbTYC&amp;dq=%C2%A0James+Payn+from+1884+butter+side+down&amp;pg=PA32\" rel=\"nofollow\"><i>The Facts on File Dictionary of Proverbs</i></a>, <a class=\"mw-redirect\" href=\"/wiki/Infobase_Publishing\" title=\"Infobase Publishing\">Infobase Publishing</a>, <a class=\"mw-redirect\" href=\"/wiki/ISBN_(identifier)\" title=\"ISBN (identifier)\">ISBN</a>, <a href=\"/wiki/Special:BookSources/9780816066735\" title=\"Special:BookSources/9780816066735\"><bdi>9780816066735</bdi></a>, <a href=\"#cite_ref-Anthromurphic_4-0\"><sup><i><b>a</b></i></sup></a>, <a href=\"#cite_ref-Anthromurphic_4-1\"><sup><i><b>b</b></i></sup></a>, <a href=\"#cite_ref-Anthromurphic_4-2\"><sup><i><b>c</b></i></sup></a>, <a class=\"external text\" href=\"http://www.whydomath.org/Reading_Room_Material/ian_stewart/anthro/anthro.html\" rel=\"nofollow\">\"The Anthropomurphic Principle\"</a>, <a href=\"/wiki/Society_for_Industrial_and_Applied_Mathematics\" title=\"Society for Industrial and Applied Mathematics\">Society for Industrial and Applied Mathematics</a>, <a href=\"#cite_ref-5\">^</a>, <a href=\"/wiki/Robert_Matthews_(scientist)\" title=\"Robert Matthews (scientist)\">Matthews, Robert</a>, <a class=\"external text\" href=\"https://www.telegraph.co.uk/news/uknews/1331810/Breakfast-at-Murphys-or-why-the-toast-lands-butter-side-down.html\" rel=\"nofollow\">\"Breakfast at Murphy's (or why the toast lands butter-side down)\"</a>, <a href=\"/wiki/The_Daily_Telegraph\" title=\"The Daily Telegraph\">The Telegraph</a>, <a href=\"#cite_ref-6\">^</a>, <a class=\"mw-redirect\" href=\"/wiki/Bibcode_(identifier)\" title=\"Bibcode (identifier)\">Bibcode</a>, <a class=\"external text\" href=\"https://ui.adsabs.harvard.edu/abs/1995EJPh...16..172M\" rel=\"nofollow\">1995EJPh...16..172M</a>, <a class=\"mw-redirect\" href=\"/wiki/Doi_(identifier)\" title=\"Doi (identifier)\">doi</a>, <a class=\"external text\" href=\"https://doi.org/10.1088%2F0143-0807%2F16%2F4%2F005\" rel=\"nofollow\">10.1088/0143-0807/16/4/005</a>, <a class=\"mw-redirect\" href=\"/wiki/ISSN_(identifier)\" title=\"ISSN (identifier)\">ISSN</a>, <a class=\"external text\" href=\"https://www.worldcat.org/issn/0143-0807\" rel=\"nofollow\">0143-0807</a>, <a class=\"mw-redirect\" href=\"/wiki/S2CID_(identifier)\" title=\"S2CID (identifier)\">S2CID</a>, <a class=\"external text\" href=\"https://api.semanticscholar.org/CorpusID:120029095\" rel=\"nofollow\">120029095</a>, <a href=\"#cite_ref-7\">^</a>, <a class=\"external text\" href=\"https://web.archive.org/web/20170808060421/https://space.umd.edu/dch/p405s04/AJP00038.pdf\" rel=\"nofollow\">\"A closer look at tumbling toast\"</a>, <a class=\"mw-redirect\" href=\"/wiki/Bibcode_(identifier)\" title=\"Bibcode (identifier)\">Bibcode</a>, <a class=\"external text\" href=\"https://ui.adsabs.harvard.edu/abs/2001AmJPh..69...38B\" rel=\"nofollow\">2001AmJPh..69...38B</a>, <a class=\"mw-redirect\" href=\"/wiki/Doi_(identifier)\" title=\"Doi (identifier)\">doi</a>, <a class=\"external text\" href=\"https://doi.org/10.1119%2F1.1289213\" rel=\"nofollow\">10.1119/1.1289213</a>, <a class=\"external text\" href=\"https://space.umd.edu/dch/p405s04/AJP00038.pdf\" rel=\"nofollow\">the original</a>, <a href=\"#cite_ref-European-Journal_8-0\"><sup><i><b>a</b></i></sup></a>, <a href=\"#cite_ref-European-Journal_8-1\"><sup><i><b>b</b></i></sup></a>, <a href=\"/wiki/Robert_Matthews_(scientist)\" title=\"Robert Matthews (scientist)\">Matthews, R A J</a>, <a href=\"/wiki/European_Journal_of_Physics\" title=\"European Journal of Physics\">European Journal of Physics</a>, <a class=\"mw-redirect\" href=\"/wiki/Bibcode_(identifier)\" title=\"Bibcode (identifier)\">Bibcode</a>, <a class=\"external text\" href=\"https://ui.adsabs.harvard.edu/abs/1995EJPh...16..172M\" rel=\"nofollow\">1995EJPh...16..172M</a>, <a class=\"mw-redirect\" href=\"/wiki/Doi_(identifier)\" title=\"Doi (identifier)\">doi</a>, <a class=\"external text\" href=\"https://doi.org/10.1088%2F0143-0807%2F16%2F4%2F005\" rel=\"nofollow\">10.1088/0143-0807/16/4/005</a>, <a class=\"mw-redirect\" href=\"/wiki/S2CID_(identifier)\" title=\"S2CID (identifier)\">S2CID</a>, <a class=\"external text\" href=\"https://api.semanticscholar.org/CorpusID:120029095\" rel=\"nofollow\">120029095</a>, <a href=\"#cite_ref-9\">^</a>, <a class=\"external text\" href=\"http://io9.com/5867322/an-experiment-that-solves-the-worlds-most-important-question-how-to-keep-toast-from-landing-buttered+side-down\" rel=\"nofollow\">\"An Experiment That Solves The World's Most Important Question: How to Keep Toast from Landing Buttered-Side Down\"</a>, <a href=\"/wiki/Io9\" title=\"Io9\">io9</a>, <a href=\"#cite_ref-10\">^</a>, <a class=\"external text\" href=\"https://www.maa.org/external_archive/devlin/devlin_july_98.html\" rel=\"nofollow\">\"Buttered Toast and Other Patterns\"</a>, <a href=\"/wiki/Mathematical_Association_of_America\" title=\"Mathematical Association of America\">Mathematical Association of America</a>, <a href=\"#cite_ref-11\">^</a>, <a class=\"external text\" href=\"http://www.thenakedscientists.com/HTML/content/kitchenscience/exp/butter-side-down/\" rel=\"nofollow\">\"Butter Side Down\"</a>, <a href=\"/wiki/The_Naked_Scientists\" title=\"The Naked Scientists\">The Naked Scientists</a>, <a href=\"/wiki/BBC\" title=\"BBC\">BBC</a>, <a href=\"#cite_ref-12\">^</a>, <a class=\"external text\" href=\"https://web.archive.org/web/20090830231610/http://www.how-come.net/2009/08/17/why-does-a-falling-piece-of-toast-always-seem-to-land-on-the-buttered-side/\" rel=\"nofollow\">\"Why does a falling piece of toast always seem to land on the buttered side?\"</a>, <a class=\"external text\" href=\"http://www.how-come.net/2009/08/17/why-does-a-falling-piece-of-toast-always-seem-to-land-on-the-buttered-side/\" rel=\"nofollow\">the original</a>, <a href=\"#cite_ref-13\">^</a>, <a class=\"external text\" href=\"https://web.archive.org/web/20170603084204/http://www.mythbusterstheexhibition.com/science-content/butter-side-up/#article\" rel=\"nofollow\">\"Mythbusters Museum\"</a>, <a class=\"external text\" href=\"http://www.mythbusterstheexhibition.com/science-content/butter-side-up/#article\" rel=\"nofollow\">the original</a>, <a href=\"/wiki/Wikipedia:Contents/Portals\" title=\"Wikipedia:Contents/Portals\">Portal</a>, <a class=\"mw-file-description\" href=\"/wiki/File:Foodlogo2.svg\"><img alt=\"icon\" class=\"mw-file-element\" data-file-height=\"106\" data-file-width=\"146\" decoding=\"async\" height=\"15\" src=\"//upload.wikimedia.org/wikipedia/commons/thumb/d/d6/Foodlogo2.svg/21px-Foodlogo2.svg.png\" srcset=\"//upload.wikimedia.org/wikipedia/commons/thumb/d/d6/Foodlogo2.svg/32px-Foodlogo2.svg.png 1.5x, //upload.wikimedia.org/wikipedia/commons/thumb/d/d6/Foodlogo2.svg/42px-Foodlogo2.svg.png 2x\" width=\"21\"/></a>, <a href=\"/wiki/Portal:Food\" title=\"Portal:Food\">Food</a>, <a href=\"/wiki/Template:Butter\" title=\"Template:Butter\"><abbr style=\";;background:none transparent;border:none;box-shadow:none;padding:0;\" title=\"View this template\">v</abbr></a>, <a href=\"/wiki/Template_talk:Butter\" title=\"Template talk:Butter\"><abbr style=\";;background:none transparent;border:none;box-shadow:none;padding:0;\" title=\"Discuss this template\">t</abbr></a>, <a href=\"/wiki/Special:EditPage/Template:Butter\" title=\"Special:EditPage/Template:Butter\"><abbr style=\";;background:none transparent;border:none;box-shadow:none;padding:0;\" title=\"Edit this template\">e</abbr></a>, <a href=\"/wiki/Butter\" title=\"Butter\">Butter</a>, <a href=\"/wiki/Bog_butter\" title=\"Bog butter\">Bog butter</a>, <a href=\"/wiki/Clarified_butter\" title=\"Clarified butter\">Clarified butter</a>, <a href=\"/wiki/Ghee\" title=\"Ghee\">Ghee</a>, <a href=\"/wiki/Manteiga-da-terra\" title=\"Manteiga-da-terra\">Manteiga-da-terra</a>, <a href=\"/wiki/Niter_kibbeh\" title=\"Niter kibbeh\">Niter kibbeh</a>, <a href=\"/wiki/Smen\" title=\"Smen\">Smen</a>, <a href=\"/wiki/Urfa_butter\" title=\"Urfa butter\">Urfa</a>, <a href=\"/wiki/Vologda_butter\" title=\"Vologda butter\">Vologda butter</a>, <a href=\"/wiki/Butter#Whey_butter\" title=\"Butter\">Whey butter</a>, <a href=\"/wiki/Yak_butter\" title=\"Yak butter\">Yak butter</a>, <a class=\"mw-file-description\" href=\"/wiki/File:%C5%A0v%C3%A9dsk%C3%BD_kol%C3%A1%C4%8D_naruby_904_(cropped).JPG\"><img class=\"mw-file-element\" data-file-height=\"961\" data-file-width=\"1280\" decoding=\"async\" height=\"101\" src=\"//upload.wikimedia.org/wikipedia/commons/thumb/d/d3/%C5%A0v%C3%A9dsk%C3%BD_kol%C3%A1%C4%8D_naruby_904_%28cropped%29.JPG/135px-%C5%A0v%C3%A9dsk%C3%BD_kol%C3%A1%C4%8D_naruby_904_%28cropped%29.JPG\" srcset=\"//upload.wikimedia.org/wikipedia/commons/thumb/d/d3/%C5%A0v%C3%A9dsk%C3%BD_kol%C3%A1%C4%8D_naruby_904_%28cropped%29.JPG/203px-%C5%A0v%C3%A9dsk%C3%BD_kol%C3%A1%C4%8D_naruby_904_%28cropped%29.JPG 1.5x, //upload.wikimedia.org/wikipedia/commons/thumb/d/d3/%C5%A0v%C3%A9dsk%C3%BD_kol%C3%A1%C4%8D_naruby_904_%28cropped%29.JPG/270px-%C5%A0v%C3%A9dsk%C3%BD_kol%C3%A1%C4%8D_naruby_904_%28cropped%29.JPG 2x\" width=\"135\"/></a>, <a href=\"/wiki/Beurre_blanc\" title=\"Beurre blanc\">Beurre blanc</a>, <a href=\"/wiki/Beurre_mont%C3%A9\" title=\"Beurre monté\">Beurre monté</a>, <a href=\"/wiki/Beurre_noir\" title=\"Beurre noir\">Beurre noir</a>, <a href=\"/wiki/Beurre_noisette\" title=\"Beurre noisette\">Beurre noisette</a>, <a href=\"/wiki/Caf%C3%A9_de_Paris_sauce\" title=\"Café de Paris sauce\">Café de Paris sauce</a>, <a href=\"/wiki/Compound_butter\" title=\"Compound butter\">Compound butter</a>, <a href=\"/wiki/Garlic_butter\" title=\"Garlic butter\">Beurre à la bourguignonne</a>, <a href=\"/wiki/Beurre_Ma%C3%AEtre_d%27H%C3%B4tel\" title=\"Beurre Maître d'Hôtel\">Beurre Maître d'Hôtel</a>, <a href=\"/wiki/Truffle_butter\" title=\"Truffle butter\">Truffle butter</a>, <a href=\"/wiki/Butter_tea\" title=\"Butter tea\">Butter tea</a>, <a href=\"/wiki/Egg_butter\" title=\"Egg butter\">Egg butter</a>, <a href=\"/wiki/List_of_butter_dishes\" title=\"List of butter dishes\">List of butter dishes</a>, <a href=\"/wiki/Butter_churn\" title=\"Butter churn\">Butter churn</a>, <a href=\"/wiki/Butter_curler\" title=\"Butter curler\">Butter curler</a>, <a href=\"/wiki/Butter_knife\" title=\"Butter knife\">Butter knife</a>, <a href=\"/wiki/French_butter_dish\" title=\"French butter dish\">French butter dish</a>, <a href=\"/wiki/Scotch_hands\" title=\"Scotch hands\">Scotch hands</a>, <a href=\"/wiki/Boterwet\" title=\"Boterwet\">Boterwet</a>, <a href=\"/wiki/Butterfat\" title=\"Butterfat\">Butterfat</a>, <a href=\"/wiki/Butter_grading\" title=\"Butter grading\">Butter grading</a>, <a href=\"/wiki/Chicago_Butter_and_Egg_Board\" title=\"Chicago Butter and Egg Board\">Chicago Butter and Egg Board</a>, <a href=\"/wiki/Churning_(butter)\" title=\"Churning (butter)\">Churning</a>, <a href=\"/wiki/Anchor_(brand)\" title=\"Anchor (brand)\">Anchor</a>, <a href=\"/wiki/Land_O%27Lakes\" title=\"Land O'Lakes\">Land O'Lakes</a>, <a href=\"/wiki/Lurpak\" title=\"Lurpak\">Lurpak</a>, <a href=\"/wiki/Ornua\" title=\"Ornua\">Ornua</a>, <a href=\"/wiki/Plugr%C3%A1\" title=\"Plugrá\">Plugrá</a>, <a href=\"/wiki/Pr%C3%A9sident_(brand)\" title=\"Président (brand)\">Président</a>, <a href=\"/wiki/Butter_sculpture\" title=\"Butter sculpture\">Butter sculpture</a>, <a href=\"/wiki/Butter_lamb\" title=\"Butter lamb\">Butter lamb</a>, <a href=\"/wiki/Butter_lamp\" title=\"Butter lamp\">Butter lamp</a>, <a href=\"/wiki/Butter_rebellion\" title=\"Butter rebellion\">Butter rebellion</a>, <a href=\"/wiki/Buttered_cat_paradox\" title=\"Buttered cat paradox\">Buttered cat paradox</a>, <a class=\"mw-selflink selflink\">Buttered toast phenomenon</a>, <a href=\"/wiki/Norwegian_butter_crisis\" title=\"Norwegian butter crisis\">Norwegian butter crisis</a>, <a href=\"/wiki/Butter_mountain\" title=\"Butter mountain\">Butter mountain</a>, <a href=\"/wiki/Artificial_butter_flavoring\" title=\"Artificial butter flavoring\">Artificial butter flavoring</a>, <a href=\"/wiki/Butter_salt\" title=\"Butter salt\">Butter salt</a>, <a href=\"/wiki/Dairy_salt\" title=\"Dairy salt\">Dairy salt</a>, <a href=\"/wiki/List_of_spreads\" title=\"List of spreads\">List of spreads</a>, <a href=\"/wiki/Butter_churning_in_Nepal\" title=\"Butter churning in Nepal\">Butter churning in Nepal</a>, <a href=\"/wiki/Category:Butter\" title=\"Category:Butter\">Category: Butter</a>, <a dir=\"ltr\" href=\"https://en.wikipedia.org/w/index.php?title=Buttered_toast_phenomenon&amp;oldid=1159917126\">https://en.wikipedia.org/w/index.php?title=Buttered_toast_phenomenon&amp;oldid=1159917126</a>, <a href=\"/wiki/Help:Category\" title=\"Help:Category\">Categories</a>, <a href=\"/wiki/Category:Physical_phenomena\" title=\"Category:Physical phenomena\">Physical phenomena</a>, <a href=\"/wiki/Category:Butter\" title=\"Category:Butter\">Butter</a>, <a href=\"/wiki/Category:Bread_in_culture\" title=\"Category:Bread in culture\">Bread in culture</a>, <a href=\"/wiki/Category:Articles_with_short_description\" title=\"Category:Articles with short description\">Articles with short description</a>, <a href=\"/wiki/Category:Short_description_is_different_from_Wikidata\" title=\"Category:Short description is different from Wikidata\">Short description is different from Wikidata</a>, <a href=\"/wiki/Category:Articles_with_specifically_marked_weasel-worded_phrases_from_January_2019\" title=\"Category:Articles with specifically marked weasel-worded phrases from January 2019\">Articles with specifically marked weasel-worded phrases from January 2019</a>, <a href=\"//en.wikipedia.org/wiki/Wikipedia:Text_of_the_Creative_Commons_Attribution-ShareAlike_4.0_International_License\" rel=\"license\">Creative Commons Attribution-ShareAlike License 4.0</a>, <a href=\"//en.wikipedia.org/wiki/Wikipedia:Text_of_the_Creative_Commons_Attribution-ShareAlike_4.0_International_License\" rel=\"license\" style=\"display:none;\"></a>, <a href=\"//foundation.wikimedia.org/wiki/Terms_of_Use\">Terms of Use</a>, <a href=\"//foundation.wikimedia.org/wiki/Privacy_policy\">Privacy Policy</a>, <a href=\"//www.wikimediafoundation.org/\">Wikimedia Foundation, Inc.</a>, <a href=\"https://foundation.wikimedia.org/wiki/Special:MyLanguage/Policy:Privacy_policy\">Privacy policy</a>, <a href=\"/wiki/Wikipedia:About\">About Wikipedia</a>, <a href=\"/wiki/Wikipedia:General_disclaimer\">Disclaimers</a>, <a href=\"//en.wikipedia.org/wiki/Wikipedia:Contact_us\">Contact Wikipedia</a>, <a href=\"https://foundation.wikimedia.org/wiki/Special:MyLanguage/Universal_Code_of_Conduct\">Code of Conduct</a>, <a href=\"https://developer.wikimedia.org\">Developers</a>, <a href=\"https://stats.wikimedia.org/#/en.wikipedia.org\">Statistics</a>, <a href=\"https://foundation.wikimedia.org/wiki/Special:MyLanguage/Policy:Cookie_statement\">Cookie statement</a>, <a class=\"noprint stopMobileRedirectToggle\" href=\"//en.m.wikipedia.org/w/index.php?title=Buttered_toast_phenomenon&amp;mobileaction=toggle_view_mobile\">Mobile view</a>, <a href=\"https://wikimediafoundation.org/\"><img alt=\"Wikimedia Foundation\" height=\"31\" loading=\"lazy\" src=\"/static/images/footer/wikimedia-button.png\" srcset=\"/static/images/footer/wikimedia-button-1.5x.png 1.5x, /static/images/footer/wikimedia-button-2x.png 2x\" width=\"88\"/></a>, <a href=\"https://www.mediawiki.org/\"><img alt=\"Powered by MediaWiki\" height=\"31\" loading=\"lazy\" src=\"/static/images/footer/poweredby_mediawiki_88x31.png\" srcset=\"/static/images/footer/poweredby_mediawiki_132x47.png 1.5x, /static/images/footer/poweredby_mediawiki_176x62.png 2x\" width=\"88\"/></a>]\n"
     ]
    },
    {
     "data": {
      "text/plain": [
       "244"
      ]
     },
     "execution_count": 2,
     "metadata": {},
     "output_type": "execute_result"
    }
   ],
   "source": [
    "#Challenge 2\n",
    "\n",
    "#.find_all() makes a list of the HTML code with all the instances of a tag in the HTML code\n",
    "hyperlinks = soup.find_all('a')\n",
    "print(hyperlinks)\n",
    "len(hyperlinks)\n"
   ]
  },
  {
   "cell_type": "code",
   "execution_count": 3,
   "id": "179cdcc4",
   "metadata": {},
   "outputs": [],
   "source": [
    "#Challenge 3\n",
    "import seaborn as sns\n",
    "import pandas as pd\n",
    "def substringOccur(mainString, substring):\n",
    "    count = 0\n",
    "    start = 0\n",
    "    \n",
    "    while start < len(mainString):\n",
    "        start = mainString.find(substring, start)\n",
    "        if start == -1:\n",
    "            break\n",
    "        count += 1\n",
    "        start += 1\n",
    "        \n",
    "    return count"
   ]
  },
  {
   "cell_type": "code",
   "execution_count": 4,
   "id": "54754f1c",
   "metadata": {},
   "outputs": [],
   "source": [
    "wordList = [\n",
    "    \"apple\", \"banana\", \"car\", \"dog\", \"elephant\", \"flower\", \"guitar\", \"hat\", \"ice cream\",\n",
    "    \"jacket\", \"kite\", \"lamp\", \"mountain\", \"notebook\", \"orange\", \"penguin\", \"quilt\", \n",
    "    \"rainbow\", \"shoe\", \"table\", \"umbrella\", \"violin\", \"wallet\", \"xylophone\", \"yo-yo\", \n",
    "    \"zebra\", \"book\", \"chair\", \"desk\", \"egg\", \"fish\", \"globe\", \"hammer\", \"igloo\", \n",
    "    \"jellyfish\", \"key\", \"ladder\", \"moon\", \"necklace\", \"octopus\", \"pencil\", \"queen\", \n",
    "    \"rabbit\", \"star\", \"tomato\", \"unicorn\", \"vase\", \"watermelon\", \"x-ray\", \"yacht\", \n",
    "    \"zipper\", \"backpack\", \"camera\", \"donut\", \"elephant\", \"fork\", \"globe\", \"hat\", \n",
    "    \"ice cream\", \"jellyfish\", \"kite\", \"lion\", \"moon\", \"nest\", \"orange\", \"penguin\", \n",
    "    \"quilt\", \"rainbow\", \"sun\", \"tiger\", \"umbrella\", \"volcano\", \"watermelon\", \"x-ray\", \n",
    "    \"yarn\", \"zipper\", \"bear\", \"cup\", \"duck\", \"elephant\", \"flower\", \"grapes\", \"house\", \n",
    "    \"igloo\", \"juice\", \"kite\", \"lighthouse\", \"mouse\", \"nest\", \"orange\", \"pear\", \"quilt\", \n",
    "    \"rainbow\", \"sun\", \"tree\", \"umbrella\", \"vase\", \"watermelon\", \"xylophone\", \"yak\"\n",
    "]\n",
    "\n",
    "\n",
    "countList = []\n",
    "\n",
    "for i in range(len(wordList)):\n",
    "    url = \"https://en.wikipedia.org/wiki/\" + wordList[i]\n",
    "    response = requests.get(url)\n",
    "    soup = BeautifulSoup(response.text, \"html.parser\")\n",
    "    freq = substringOccur(response.text, \"and\")\n",
    "    countList.append(freq)\n",
    "    \n"
   ]
  },
  {
   "cell_type": "code",
   "execution_count": 5,
   "id": "2250b508",
   "metadata": {
    "scrolled": true
   },
   "outputs": [
    {
     "name": "stdout",
     "output_type": "stream",
     "text": [
      "[488, 781, 541, 797, 756, 559, 556, 236, 414, 86, 296, 82, 329, 141, 93, 516, 381, 417, 621, 37, 331, 580, 126, 223, 192, 537, 678, 235, 141, 321, 676, 95, 328, 111, 569, 87, 184, 1131, 232, 678, 274, 72, 508, 629, 516, 438, 111, 287, 532, 291, 263, 190, 319, 535, 756, 106, 95, 236, 414, 569, 296, 865, 1131, 173, 93, 516, 381, 417, 793, 910, 331, 451, 287, 532, 265, 263, 774, 264, 229, 756, 559, 268, 326, 111, 218, 296, 290, 111, 173, 93, 201, 381, 417, 793, 709, 331, 111, 287, 223, 221]\n",
      "385.69\n"
     ]
    }
   ],
   "source": [
    "print(countList)\n",
    "avg = sum(countList) / len(countList)\n",
    "print(avg)"
   ]
  },
  {
   "cell_type": "code",
   "execution_count": 6,
   "id": "a048a90a",
   "metadata": {},
   "outputs": [
    {
     "data": {
      "text/plain": [
       "Text(0.5, 0, \"Number of 'And' Per Page\")"
      ]
     },
     "execution_count": 6,
     "metadata": {},
     "output_type": "execute_result"
    },
    {
     "data": {
      "image/png": "[encoded data removed]",
      "text/plain": [
       "<Figure size 640x480 with 1 Axes>"
      ]
     },
     "metadata": {},
     "output_type": "display_data"
    }
   ],
   "source": [
    "import seaborn as sns\n",
    "import matplotlib.pyplot as plt\n",
    "\n",
    "sns.histplot(x = countList, bins = 8, kde = True)\n",
    "plt.xlabel(\"Number of 'And' Per Page\")"
   ]
  },
  {
   "cell_type": "code",
   "execution_count": 21,
   "id": "d33399c6",
   "metadata": {},
   "outputs": [
    {
     "data": {
      "text/html": [
       "<div>\n",
       "<style scoped>\n",
       "    .dataframe tbody tr th:only-of-type {\n",
       "        vertical-align: middle;\n",
       "    }\n",
       "\n",
       "    .dataframe tbody tr th {\n",
       "        vertical-align: top;\n",
       "    }\n",
       "\n",
       "    .dataframe thead th {\n",
       "        text-align: right;\n",
       "    }\n",
       "</style>\n",
       "<table border=\"1\" class=\"dataframe\">\n",
       "  <thead>\n",
       "    <tr style=\"text-align: right;\">\n",
       "      <th></th>\n",
       "      <th>Country</th>\n",
       "      <th>Capital</th>\n",
       "      <th>Population</th>\n",
       "      <th>Area</th>\n",
       "    </tr>\n",
       "  </thead>\n",
       "  <tbody>\n",
       "    <tr>\n",
       "      <th>0</th>\n",
       "      <td>Andorra</td>\n",
       "      <td>Andorra la Vella</td>\n",
       "      <td>84000</td>\n",
       "      <td>468.0</td>\n",
       "    </tr>\n",
       "    <tr>\n",
       "      <th>1</th>\n",
       "      <td>United Arab Emirates</td>\n",
       "      <td>Abu Dhabi</td>\n",
       "      <td>4975593</td>\n",
       "      <td>82880.0</td>\n",
       "    </tr>\n",
       "    <tr>\n",
       "      <th>2</th>\n",
       "      <td>Afghanistan</td>\n",
       "      <td>Kabul</td>\n",
       "      <td>29121286</td>\n",
       "      <td>647500.0</td>\n",
       "    </tr>\n",
       "    <tr>\n",
       "      <th>3</th>\n",
       "      <td>Antigua and Barbuda</td>\n",
       "      <td>St. John's</td>\n",
       "      <td>86754</td>\n",
       "      <td>443.0</td>\n",
       "    </tr>\n",
       "    <tr>\n",
       "      <th>4</th>\n",
       "      <td>Anguilla</td>\n",
       "      <td>The Valley</td>\n",
       "      <td>13254</td>\n",
       "      <td>102.0</td>\n",
       "    </tr>\n",
       "  </tbody>\n",
       "</table>\n",
       "</div>"
      ],
      "text/plain": [
       "                Country           Capital Population      Area\n",
       "0               Andorra  Andorra la Vella      84000     468.0\n",
       "1  United Arab Emirates         Abu Dhabi    4975593   82880.0\n",
       "2           Afghanistan             Kabul   29121286  647500.0\n",
       "3   Antigua and Barbuda        St. John's      86754     443.0\n",
       "4              Anguilla        The Valley      13254     102.0"
      ]
     },
     "execution_count": 21,
     "metadata": {},
     "output_type": "execute_result"
    }
   ],
   "source": [
    "#Warm Up\n",
    "from bs4 import BeautifulSoup\n",
    "import requests\n",
    "\n",
    "url = \"https://www.scrapethissite.com/pages/simple/\"\n",
    "response = requests.get(url)\n",
    "\n",
    "soup = BeautifulSoup(response.text, \"html.parser\")\n",
    "\n",
    "header = soup.find_all('h3')\n",
    "\n",
    "country = []\n",
    "for i in range(len(header)):\n",
    "    a = header[i].text.strip()\n",
    "    country.append(a)\n",
    "\n",
    "header = soup.find_all('span', class_ = 'country-capital')\n",
    "\n",
    "capital = []\n",
    "for i in range(len(header)):\n",
    "    a = header[i].text.strip()\n",
    "    capital.append(a)\n",
    "\n",
    "\n",
    "header = soup.find_all('span', class_ = 'country-population')\n",
    "population = []\n",
    "for i in range(len(header)):\n",
    "    a = header[i].text.strip()\n",
    "    population.append(a)\n",
    "\n",
    "\n",
    "header = soup.find_all('span', class_ ='country-area')\n",
    "area = []\n",
    "for i in range(len(header)):\n",
    "    a = header[i].text.strip()\n",
    "    area.append(a)\n",
    "\n",
    "df = pd.DataFrame({\n",
    "    \"Country\": country,\n",
    "    \"Capital\": capital,\n",
    "    \"Population\": population,\n",
    "    \"Area\":   area\n",
    "}\n",
    ")\n",
    "\n",
    "df.head()"
   ]
  },
  {
   "cell_type": "code",
   "execution_count": null,
   "id": "097c23f5",
   "metadata": {},
   "outputs": [],
   "source": [
    "#This "
   ]
  }
 ],
 "metadata": {
  "kernelspec": {
   "display_name": "Python 3 (ipykernel)",
   "language": "python",
   "name": "python3"
  },
  "language_info": {
   "codemirror_mode": {
    "name": "ipython",
    "version": 3
   },
   "file_extension": ".py",
   "mimetype": "text/x-python",
   "name": "python",
   "nbconvert_exporter": "python",
   "pygments_lexer": "ipython3",
   "version": "3.9.13"
  }
 },
 "nbformat": 4,
 "nbformat_minor": 5
}
