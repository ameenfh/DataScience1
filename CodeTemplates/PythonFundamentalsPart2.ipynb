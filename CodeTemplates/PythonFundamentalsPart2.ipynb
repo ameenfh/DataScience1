{
 "cells": [
  {
   "cell_type": "code",
   "execution_count": 1,
   "id": "80934c63",
   "metadata": {},
   "outputs": [],
   "source": [
    "#Challenge 1\n",
    "\n",
    "#Column Lists\n",
    "nameList = [\"Edward Teach\", \"Anne Bonny\", \"John Rackham\", \"Cheung Po Tsai\", \"Grace O'Malley\", \"Mary Read\", \"Sayyida al Hurra\", \"Zheng Yi Sao\", \"Francis Drake\", \"Jean Lafitte\"]\n",
    "yearsList = [\"1716 to 1718\", \"1718 to 1720\", \"1718 to 1720\", \"1798 to 1810\", \"1564 to 1595\", \"1708 to 1721\", \"1515 to 1545\", \"1801 to 1810\", \"1563 to 1596\", \"1810 to 1823\"]\n",
    "sailedList = [\"Caribbean\", \"Caribbean\", \"Caribbean\", \"South China Sea\", \"British Isles\", \"Caribbean\", \"Mediterranean\", \"South China Sea\", \"Caribbean\", \"Gulf of Mexico\"]\n",
    "aliasList = [\"Blackbeard\", \"\", \"Calico Jack\", \"The Kid\", \"Queen of Ireland\", \"Mark\", \"Hakimat Titwan\", \"Ching Shih\", \" Sir Francis Drake\", \"Terror of the Gulf\"]\n",
    "\n",
    "\n",
    "columnDict = {\n",
    "    \"Name\" : nameList,\n",
    "    \"Years Active\" : yearsList, \n",
    "    \"Sailed\" : sailedList, \n",
    "    \"Alias\" : aliasList\n",
    "}\n",
    "\n",
    "#Row lists\n",
    "edward = []\n",
    "anne = []\n",
    "john = []\n",
    "cheung = []\n",
    "grace = []\n",
    "mary = []\n",
    "sayyida = []\n",
    "zheng = []\n",
    "francis = []\n",
    "jean = []\n",
    "\n",
    "for x in columnDict:\n",
    "    edward.append(columnDict[x][0])\n",
    "    anne.append(columnDict[x][1])\n",
    "    john.append(columnDict[x][2])\n",
    "    cheung.append(columnDict[x][3])\n",
    "    grace.append(columnDict[x][4])\n",
    "    mary.append(columnDict[x][5])\n",
    "    sayyida.append(columnDict[x][6])\n",
    "    zheng.append(columnDict[x][7])\n",
    "    francis.append(columnDict[x][8])\n",
    "    jean.append(columnDict[x][9])\n",
    "\n",
    "\n",
    "\n",
    "rowDict = {\n",
    "    \"Edward Teach\" : edward,\n",
    "    \"Anne Bonny\" : anne, \n",
    "    \"John Rackham\" : john,\n",
    "    \"Cheung Po Tsai\": cheung, \n",
    "    \"Grace O'Malley\" : grace, \n",
    "    \"Mary Read\": mary, \n",
    "    \"Sayyida al Hurra\" : sayyida,\n",
    "    \"Zheng Yi Sao\" : zheng,\n",
    "    \"Francis Drake\": francis, \n",
    "    \"Jean Lafitte\" : jean \n",
    "    \n",
    "}"
   ]
  },
  {
   "cell_type": "code",
   "execution_count": 2,
   "id": "57726683",
   "metadata": {},
   "outputs": [
    {
     "name": "stdout",
     "output_type": "stream",
     "text": [
      "The pirates that sailed the Carribbean in the 17th Century were:['Edward Teach', 'Anne Bonny', 'John Rackham', 'Mary Read']\n"
     ]
    }
   ],
   "source": [
    "#Challenge 2 part 1\n",
    "\n",
    "pirates = []\n",
    "for i in range(10):\n",
    "    if columnDict[\"Sailed\"][i] == \"Caribbean\":\n",
    "        string = columnDict[\"Years Active\"][i]\n",
    "        begYear = int(string[:4])\n",
    "        if begYear >= 1700 and begYear < 1800 :\n",
    "            pirates.append(columnDict[\"Name\"][i])\n",
    "print(\"The pirates that sailed the Carribbean in the 17th Century were:\" + str(pirates))"
   ]
  },
  {
   "cell_type": "code",
   "execution_count": 3,
   "id": "103408da",
   "metadata": {},
   "outputs": [
    {
     "name": "stdout",
     "output_type": "stream",
     "text": [
      "The pirate with the longest career was Francis Drake\n"
     ]
    }
   ],
   "source": [
    "#Challenge 2 part 2\n",
    "\n",
    "careerList = []\n",
    "for i in range(10):\n",
    "    string = columnDict[\"Years Active\"][i]\n",
    "    begYear = int(string[:4])\n",
    "    endYear = int(string[8:])\n",
    "    career = endYear - begYear\n",
    "    careerList.append(career)\n",
    "\n",
    "sortedList = []\n",
    "for i in careerList:\n",
    "    sortedList.append(i)\n",
    "sortedList.sort()\n",
    "\n",
    "for i in range(10):\n",
    "    if careerList[i] == sortedList[9]:\n",
    "        index = i\n",
    "\n",
    "\n",
    "print(\"The pirate with the longest career was \" + columnDict[\"Name\"][index])"
   ]
  },
  {
   "cell_type": "code",
   "execution_count": 4,
   "id": "2312dcca",
   "metadata": {},
   "outputs": [
    {
     "name": "stdout",
     "output_type": "stream",
     "text": [
      "On average, these pirates were active for 14.7 years\n"
     ]
    }
   ],
   "source": [
    "#Challenge 2 part 3\n",
    "\n",
    "careerList = []\n",
    "for i in range(10):\n",
    "    string = columnDict[\"Years Active\"][i]\n",
    "    begYear = int(string[:4])\n",
    "    endYear = int(string[8:])\n",
    "    career = endYear - begYear\n",
    "    careerList.append(career)\n",
    "\n",
    "sum = 0\n",
    "\n",
    "for i in careerList:\n",
    "    sum = sum + i\n",
    "\n",
    "avgCareer = sum/10\n",
    "\n",
    "print(\"On average, these pirates were active for \" + str(avgCareer) + \" years\")"
   ]
  },
  {
   "cell_type": "code",
   "execution_count": 5,
   "id": "af08836b",
   "metadata": {},
   "outputs": [],
   "source": [
    "columnDict2 = {\n",
    "    \"Sex\":[\"M\", \"F\", \"M\", \"M\", \"M\", \"F\", \"F\", \"F\", \"F\", \"M\", \"M\"],\n",
    "    \"Age at Death\":[40, 24, 37, 39, 73, 36, 75, 69, 56, 46],\n",
    "    \"Height\":[6.4, 5.6, 5.6, 5.3, 5.0, 5.1, \"\", 5.3, 5.5, 6.2],\n",
    "    \"Skull and Crossbones\":[False, True,  True, False, False, True, False, False, False, False]\n",
    "}"
   ]
  },
  {
   "cell_type": "code",
   "execution_count": 7,
   "id": "98f18bee",
   "metadata": {},
   "outputs": [
    {
     "name": "stdout",
     "output_type": "stream",
     "text": [
      "None\n",
      "{'Name': ['Edward Teach', 'Anne Bonny', 'John Rackham', 'Cheung Po Tsai', \"Grace O'Malley\", 'Mary Read', 'Sayyida al Hurra', 'Zheng Yi Sao', 'Francis Drake', 'Jean Lafitte'], 'Years Active': ['1716 to 1718', '1718 to 1720', '1718 to 1720', '1798 to 1810', '1564 to 1595', '1708 to 1721', '1515 to 1545', '1801 to 1810', '1563 to 1596', '1810 to 1823'], 'Sailed': ['Caribbean', 'Caribbean', 'Caribbean', 'South China Sea', 'British Isles', 'Caribbean', 'Mediterranean', 'South China Sea', 'Caribbean', 'Gulf of Mexico'], 'Alias': ['Blackbeard', '', 'Calico Jack', 'The Kid', 'Queen of Ireland', 'Mark', 'Hakimat Titwan', 'Ching Shih', ' Sir Francis Drake', 'Terror of the Gulf'], 'Sex': ['M', 'F', 'M', 'M', 'M', 'F', 'F', 'F', 'F', 'M', 'M'], 'Age at Death': [40, 24, 'N/A', 37, 39, 73, 36, 75, 69, 56, 46], 'Height': [6.4, 5.6, 'N/A', 5.6, 5.3, 5.0, 5.1, '', 5.3, 5.5, 6.2], 'Skull and Crossbones': [False, True, 'N/A', True, False, False, True, False, False, False, False]}\n"
     ]
    }
   ],
   "source": [
    "columnDict.update(columnDict2)\n",
    "print(columnDict)\n"
   ]
  },
  {
   "cell_type": "code",
   "execution_count": null,
   "id": "19d05e7b",
   "metadata": {},
   "outputs": [],
   "source": []
  }
 ],
 "metadata": {
  "kernelspec": {
   "display_name": "Python 3 (ipykernel)",
   "language": "python",
   "name": "python3"
  },
  "language_info": {
   "codemirror_mode": {
    "name": "ipython",
    "version": 3
   },
   "file_extension": ".py",
   "mimetype": "text/x-python",
   "name": "python",
   "nbconvert_exporter": "python",
   "pygments_lexer": "ipython3",
   "version": "3.9.13"
  }
 },
 "nbformat": 4,
 "nbformat_minor": 5
}
