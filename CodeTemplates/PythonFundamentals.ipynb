{
 "cells": [
  {
   "cell_type": "code",
   "execution_count": 1,
   "id": "6494cb30",
   "metadata": {},
   "outputs": [
    {
     "name": "stdout",
     "output_type": "stream",
     "text": [
      "{1: ['Blackbeard', 'M', 40, 6.4, False], 2: ['Anne Bonny', 'F', 24, 5.6, True], 3: ['Calico Jack', 'M', 37, 5.6, True], 4: ['Cheung Po Tsai', 'M', 39, 5.3, False], 5: [\"Grace O'Malley\", 'F', 73, 5.0, False], 6: ['Mary Read', 'F', 36, 5.1, True], 7: ['Sayyida al Hurra', 'F', 75, '', False], 8: ['Ching Shih', 'F', 69, 5.3, False], 9: ['Sir Francis Drake', 'M', 56, 5.5, False], 10: ['Jean Lafitte', 'M', 46, 6.2, False]}\n"
     ]
    }
   ],
   "source": [
    "bbeardList = [\"Blackbeard\", \"M\", 40, 6.4, False]\n",
    "\n",
    "abonnyList = [\"Anne Bonny\", \"F\", 24, 5.6, True]\n",
    "\n",
    "cjackList = [\"Calico Jack\", \"M\", 37, 5.6, True]\n",
    "\n",
    "ctsaiList = [\"Cheung Po Tsai\", \"M\", 39, 5.3, False]\n",
    "\n",
    "gomalleyList = [\"Grace O'Malley\", \"F\", 73, 5.0, False]\n",
    "\n",
    "mreadList = [\"Mary Read\", \"F\", 36, 5.1, True]\n",
    "\n",
    "shurraList = [\"Sayyida al Hurra\", \"F\", 75, \"\", False]\n",
    "\n",
    "cshihList = [\"Ching Shih\", 'F', 69, 5.3, False]\n",
    "\n",
    "sdrakeList = [\"Sir Francis Drake\", 'M', 56, 5.5, False]\n",
    "\n",
    "jlafitteList = [\"Jean Lafitte\", \"M\", 46, 6.2, False]\n",
    "\n",
    "pirateDictionary = {\n",
    "    1 : bbeardList,\n",
    "    2 : abonnyList,\n",
    "    3 : cjackList,\n",
    "    4 : ctsaiList,\n",
    "    5 : gomalleyList,\n",
    "    6 : mreadList,\n",
    "    7 : shurraList,\n",
    "    8 : cshihList,\n",
    "    9 : sdrakeList,\n",
    "    10 : jlafitteList\n",
    "}\n",
    "\n",
    "print(pirateDictionary)"
   ]
  },
  {
   "cell_type": "code",
   "execution_count": 2,
   "id": "f4f71e98",
   "metadata": {},
   "outputs": [
    {
     "name": "stdout",
     "output_type": "stream",
     "text": [
      "['Blackbeard', 'M', 40, 6.4, False]\n"
     ]
    }
   ],
   "source": [
    "print(pirateDictionary[1])"
   ]
  },
  {
   "cell_type": "code",
   "execution_count": 3,
   "id": "775fb6a7",
   "metadata": {},
   "outputs": [
    {
     "name": "stdout",
     "output_type": "stream",
     "text": [
      "[False, False, False, False, True, False, False, True, True, False]\n"
     ]
    }
   ],
   "source": [
    "newList = []\n",
    "for i in range(10, 0, -1):\n",
    "    skullBones = pirateDictionary[i]\n",
    "    newList.append(skullBones[4])\n",
    "\n",
    "print(newList)"
   ]
  },
  {
   "cell_type": "code",
   "execution_count": 4,
   "id": "c6eb22cc",
   "metadata": {},
   "outputs": [
    {
     "name": "stdout",
     "output_type": "stream",
     "text": [
      "[['Blackbeard', 40, False], ['Anne Bonny', 24, True], ['Calico Jack', 37, True], ['Cheung Po Tsai', 39, False], [\"Grace O'Malley\", 73, False], ['Mary Read', 36, True], ['Sayyida al Hurra', 75, False], ['Ching Shih', 69, False], ['Sir Francis Drake', 56, False], ['Jean Lafitte', 46, False]]\n"
     ]
    }
   ],
   "source": [
    "overallList = []\n",
    "for i in range(10):\n",
    "    rowList = []\n",
    "    list = pirateDictionary[i+1]\n",
    "    rowList.append(list[0])\n",
    "    rowList.append(list[2])\n",
    "    rowList.append(list[4])\n",
    "    overallList.append(rowList)\n",
    "print(overallList)\n",
    "        \n",
    "    \n",
    "    "
   ]
  },
  {
   "cell_type": "code",
   "execution_count": 5,
   "id": "430042d6",
   "metadata": {},
   "outputs": [],
   "source": [
    "pirates = {\n",
    "    \"Pirate\":[\"Blackbeard\", \"Anne Bonny\", \"Calico Jack\", \"Cheung Po Tsai\", \"Grace O'Malley\", \"Mary Read\", \"Sayyida al Hurra\", \"Ching Shih\", \"Sir Francis Drake\", \"Jean Lafittte\"],\n",
    "    \"Sex\":[\"M\", \"F\", \"M\", \"M\", \"F\", \"F\", \"F\", \"F\", \"M\", \"M\"],\n",
    "    \"Age at Death\":[40, 24, 37, 39, 73, 36, 75, 69, 56, 46],\n",
    "    \"Height\":[6.4, 5.6, 5.6, 5.3, 5.0, 5.1, \"\", 5.3, 5.5, 6.2],\n",
    "    \"Skull and Crossbones\":[False, True, True, False, False, True, False, False, False, False]\n",
    "}"
   ]
  },
  {
   "cell_type": "code",
   "execution_count": 8,
   "id": "942a23e8",
   "metadata": {},
   "outputs": [
    {
     "name": "stdout",
     "output_type": "stream",
     "text": [
      "Blackbeard\n",
      "M\n",
      "40\n",
      "6.4\n",
      "False\n"
     ]
    }
   ],
   "source": [
    "print(pirates[\"Pirate\"][0])\n",
    "print(pirates[\"Sex\"][0])\n",
    "print(pirates[\"Age at Death\"][0])\n",
    "print(pirates[\"Height\"][0])\n",
    "print(pirates[\"Skull and Crossbones\"][0])"
   ]
  },
  {
   "cell_type": "code",
   "execution_count": 10,
   "id": "39c4d711",
   "metadata": {},
   "outputs": [
    {
     "name": "stdout",
     "output_type": "stream",
     "text": [
      "Blackbeard\n",
      "M\n",
      "40\n",
      "6.4\n",
      "False\n"
     ]
    }
   ],
   "source": [
    "for i in pirates:\n",
    "    print(pirates[i][0])\n",
    "    "
   ]
  },
  {
   "cell_type": "code",
   "execution_count": 16,
   "id": "1afde232",
   "metadata": {},
   "outputs": [
    {
     "name": "stdout",
     "output_type": "stream",
     "text": [
      "9\n",
      "False\n",
      "8\n",
      "False\n",
      "7\n",
      "False\n",
      "6\n",
      "False\n",
      "5\n",
      "True\n",
      "4\n",
      "False\n",
      "3\n",
      "False\n",
      "2\n",
      "True\n",
      "1\n",
      "True\n",
      "0\n",
      "False\n"
     ]
    }
   ],
   "source": [
    "for i in range(len(pirates[\"Skull and Crossbones\"])):\n",
    "    index = 9-i\n",
    "    print(index)\n",
    "    print(pirates[\"Skull and Crossbones\"][index])"
   ]
  },
  {
   "cell_type": "code",
   "execution_count": 21,
   "id": "09f469ef",
   "metadata": {},
   "outputs": [
    {
     "name": "stdout",
     "output_type": "stream",
     "text": [
      "['Blackbeard', 40, False]\n",
      "['Anne Bonny', 24, True]\n",
      "['Calico Jack', 37, True]\n",
      "['Cheung Po Tsai', 39, False]\n",
      "[\"Grace O'Malley\", 73, False]\n",
      "['Mary Read', 36, True]\n",
      "['Sayyida al Hurra', 75, False]\n",
      "['Ching Shih', 69, False]\n",
      "['Sir Francis Drake', 56, False]\n",
      "['Jean Lafittte', 46, False]\n"
     ]
    }
   ],
   "source": [
    "for i in range(len(pirates[\"Skull and Crossbones\"])):\n",
    "    tempList = []\n",
    "    tempList.append(pirates[\"Pirate\"][i])\n",
    "    tempList.append(pirates[\"Age at Death\"][i])\n",
    "    tempList.append(pirates[\"Skull and Crossbones\"][i])\n",
    "    print(tempList)\n",
    "               "
   ]
  },
  {
   "cell_type": "code",
   "execution_count": 25,
   "id": "47d58245",
   "metadata": {},
   "outputs": [
    {
     "name": "stdout",
     "output_type": "stream",
     "text": [
      "3\n"
     ]
    }
   ],
   "source": [
    "count = 0\n",
    "for i in range(10):\n",
    "    flagHas = pirates[\"Skull and Crossbones\"][i]\n",
    "    if flagHas == True:\n",
    "        count = count + 1      \n",
    "print(count)\n",
    "        "
   ]
  },
  {
   "cell_type": "code",
   "execution_count": 26,
   "id": "3f2307c7",
   "metadata": {},
   "outputs": [
    {
     "name": "stdout",
     "output_type": "stream",
     "text": [
      "43.6\n",
      "55.4\n"
     ]
    }
   ],
   "source": [
    "maleCount = 0\n",
    "femaleCount = 0\n",
    "maleTotal = 0\n",
    "femaleTotal = 0\n",
    "\n",
    "\n",
    "for i in range(10):\n",
    "    s = pirates[\"Sex\"][i]\n",
    "    age = pirates[\"Age at Death\"][i]\n",
    "    if s == \"M\":\n",
    "        maleCount = maleCount + 1\n",
    "        maleTotal = maleTotal + age\n",
    "    else:\n",
    "        femaleCount = femaleCount + 1\n",
    "        femaleTotal = femaleTotal + age\n",
    "\n",
    "maleAvg = maleTotal/maleCount\n",
    "femaleAvg = femaleTotal/femaleCount\n",
    "        \n",
    "print(maleAvg)\n",
    "print(femaleAvg)"
   ]
  },
  {
   "cell_type": "code",
   "execution_count": 29,
   "id": "66ccb67f",
   "metadata": {},
   "outputs": [
    {
     "name": "stdout",
     "output_type": "stream",
     "text": [
      "20.0\n"
     ]
    }
   ],
   "source": [
    "count = 0\n",
    "\n",
    "for i in range(10):\n",
    "      if pirates[\"Height\"][i] * 0 == 0:\n",
    "        if pirates[\"Height\"][i] >= 6.0:\n",
    "            count += 1\n",
    "percent = (count / 10) * 100\n",
    "\n",
    "print(percent)"
   ]
  },
  {
   "cell_type": "code",
   "execution_count": null,
   "id": "508cd876",
   "metadata": {},
   "outputs": [],
   "source": []
  }
 ],
 "metadata": {
  "kernelspec": {
   "display_name": "Python 3 (ipykernel)",
   "language": "python",
   "name": "python3"
  },
  "language_info": {
   "codemirror_mode": {
    "name": "ipython",
    "version": 3
   },
   "file_extension": ".py",
   "mimetype": "text/x-python",
   "name": "python",
   "nbconvert_exporter": "python",
   "pygments_lexer": "ipython3",
   "version": "3.9.13"
  }
 },
 "nbformat": 4,
 "nbformat_minor": 5
}
